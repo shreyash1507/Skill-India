{
 "cells": [
  {
   "cell_type": "code",
   "execution_count": 28,
   "source": [
    "import json\r\n",
    "import pandas as pd"
   ],
   "outputs": [],
   "metadata": {}
  },
  {
   "cell_type": "code",
   "execution_count": 30,
   "source": [
    "fd = open(\"record.json\",'r')\r\n",
    "r = fd.read()\r\n",
    "fd.close()\r\n",
    "record = json.loads(r)"
   ],
   "outputs": [],
   "metadata": {}
  },
  {
   "cell_type": "code",
   "execution_count": 31,
   "source": [
    "f = open(\"bill.json\",'r')\r\n",
    "b = f.read()\r\n",
    "f.close()\r\n",
    "bill = json.loads(b)"
   ],
   "outputs": [],
   "metadata": {}
  },
  {
   "cell_type": "code",
   "execution_count": 32,
   "source": [
    "def AddInv():\r\n",
    "    prod_id = str(input(\"Enter product id:\"))\r\n",
    "    if prod_id in record.keys():\r\n",
    "        print(\"Item already exists\")\r\n",
    "    else:\r\n",
    "        name = str(input(\"Enter name:\"))\r\n",
    "        pr = int(input(\"Enter price:\"))\r\n",
    "        qn = int(input(\"Enter quantity:\"))\r\n",
    "        record[prod_id] = {'name': name, 'pr': pr, 'qn': qn}\r\n",
    "        js = json.dumps(record)\r\n",
    "        fd = open(\"record.json\",'w')\r\n",
    "        fd.write(js)\r\n",
    "        fd.close()"
   ],
   "outputs": [],
   "metadata": {}
  },
  {
   "cell_type": "code",
   "execution_count": 33,
   "source": [
    "\r\n",
    "id=0\r\n",
    "tr_id=0\r\n",
    "def SaleInv():\r\n",
    "    ui_prod  = str(input(\"Enter the product_Id: \"))\r\n",
    "    ui_quant = int(input(\"Enter the quantity: \"))\r\n",
    "    global id\r\n",
    "    global tr_id\r\n",
    "    try:\r\n",
    "        item=record[ui_prod]\r\n",
    "        if ui_quant>item['qn']:\r\n",
    "            raise Exception(\"Item Out of stock\")\r\n",
    "        else:\r\n",
    "            print(\"Product: \", record[ui_prod]['name'])\r\n",
    "            print(\"Price: \", record[ui_prod]['pr'])\r\n",
    "            print(\"Quantity: \",ui_quant)\r\n",
    "            print(\"Billing Amount: \", record[ui_prod]['pr'] * ui_quant)\r\n",
    "            item['qn']=item['qn']-ui_quant\r\n",
    "            record[ui_prod]=item\r\n",
    "            d={\"Transaction Id\":tr_id,\"Product\":record[ui_prod]['name'] , \"Price\":record[ui_prod]['pr'] , \"quantity\":ui_quant,\"Billing amount\": record[ui_prod]['pr'] * ui_quant}\r\n",
    "            bill[id]=d\r\n",
    "            f=open(\"bill.json\",'w')\r\n",
    "            fb=json.dump(bill,f)\r\n",
    "            f.close()\r\n",
    "            fd = open(\"record.json\",'w')\r\n",
    "            js = json.dump(record,fd)\r\n",
    "            fd.close()\r\n",
    "            n=input(\"Do you want to exit y/n: \")\r\n",
    "            if(n=='y' or n=='Y'):\r\n",
    "                tr_id+=1\r\n",
    "                exit()\r\n",
    "            else:\r\n",
    "                id+=1\r\n",
    "                SaleInv()\r\n",
    "    except Exception:\r\n",
    "        print(\"Item Out of Stock\")\r\n",
    "        SaleInv()\r\n"
   ],
   "outputs": [],
   "metadata": {}
  },
  {
   "cell_type": "code",
   "execution_count": 34,
   "source": [
    "        \r\n",
    "def delete():\r\n",
    "    d=input(\"Enter the product id which you want to delete\")\r\n",
    "    with open('record.json', 'r') as data_file:\r\n",
    "        data = json.load(data_file)\r\n",
    "    del data[d]\r\n",
    "    with open('record.json', 'w') as data_file:\r\n",
    "        data = json.dump(data, data_file)\r\n"
   ],
   "outputs": [],
   "metadata": {}
  },
  {
   "cell_type": "code",
   "execution_count": 45,
   "source": [
    "\r\n",
    "def dis():\r\n",
    "    fd = open(\"record.json\",'r')\r\n",
    "    r = fd.read()\r\n",
    "    fd.close()\r\n",
    "    record = json.loads(r)\r\n",
    "    df=pd.DataFrame(record)\r\n",
    "    print(df.T)\r\n",
    "\r\n"
   ],
   "outputs": [],
   "metadata": {}
  },
  {
   "cell_type": "code",
   "execution_count": 46,
   "source": [
    "\r\n",
    "def sale():\r\n",
    "    f = open(\"bill.json\",'r')\r\n",
    "    b = f.read()\r\n",
    "    f.close()\r\n",
    "    bil= json.loads(b)\r\n",
    "    daf=pd.DataFrame(bil)\r\n",
    "    daf=daf.T\r\n",
    "    print(\"Total=\",daf['Billing amount'].sum())\r\n",
    "    print(daf)"
   ],
   "outputs": [],
   "metadata": {}
  },
  {
   "cell_type": "code",
   "execution_count": 50,
   "source": [
    "\r\n",
    "if __name__=='__main__':\r\n",
    "    print(\"Main Function\")\r\n",
    "    print(\"1.Press 1 to add new entry in the invoice\")\r\n",
    "    print(\"2.Press 2 to make Sale\")\r\n",
    "    print(\"3.Press 3 to display the stock\")\r\n",
    "    print(\"4.Press 4 to delete item from a stock\")\r\n",
    "    print(\"5 Press 5 to generate the Total sales\")\r\n",
    "    while(True):\r\n",
    "        k=int(input(\"Enter your choice\"))\r\n",
    "        if k==1:\r\n",
    "            AddInv()\r\n",
    "        elif k==2:\r\n",
    "            SaleInv()\r\n",
    "        elif k==3:\r\n",
    "            dis()\r\n",
    "        elif k==4:\r\n",
    "            delete()\r\n",
    "        elif k==5:\r\n",
    "            sale()\r\n",
    "        else:\r\n",
    "            print(\"Invalid choice\")\r\n",
    "        l=input(\"Do you want to perform more operation? Y/N\")\r\n",
    "        if(l=='n' or l=='N'):\r\n",
    "            break\r\n",
    "        else:\r\n",
    "            continue"
   ],
   "outputs": [
    {
     "output_type": "stream",
     "name": "stdout",
     "text": [
      "Main Function\n",
      "1.Press 1 to add new entry in the invoice\n",
      "2.Press 2 to make Sale\n",
      "3.Press 3 to display the stock\n",
      "4.Press 4 to delete item from a stock\n",
      "5 Press 5 to generate the Total sales\n",
      "Product:  Milk\n",
      "Price:  50\n",
      "Quantity:  2\n",
      "Billing Amount:  100\n",
      "Product:  Phone\n",
      "Price:  50000\n",
      "Quantity:  1\n",
      "Billing Amount:  50000\n",
      "            name   qn     pr\n",
      "1001  Choco Cake   29    100\n",
      "1002   Milk Cake   97    800\n",
      "1003       Drink   95     85\n",
      "1004       Candy  893      5\n",
      "1005         Pen   95     20\n",
      "1006       Phone    5  50000\n",
      "1007         Mic    0   1500\n",
      "1008        Case    1    599\n",
      "1009        Milk   98     50\n",
      "            name  qn     pr\n",
      "1001  Choco Cake  29    100\n",
      "1002   Milk Cake  97    800\n",
      "1003       Drink  95     85\n",
      "1005         Pen  95     20\n",
      "1006       Phone   5  50000\n",
      "1007         Mic   0   1500\n",
      "1008        Case   1    599\n",
      "1009        Milk  98     50\n",
      "Total= 50270\n",
      "  Product  Price quantity Billing amount Transaction Id\n",
      "2   Drink     85        2            170            NaN\n",
      "0    Milk     50        2            100              0\n",
      "1   Phone  50000        1          50000              0\n"
     ]
    }
   ],
   "metadata": {}
  },
  {
   "cell_type": "markdown",
   "source": [],
   "metadata": {}
  },
  {
   "cell_type": "code",
   "execution_count": null,
   "source": [],
   "outputs": [],
   "metadata": {}
  }
 ],
 "metadata": {
  "orig_nbformat": 4,
  "language_info": {
   "name": "python",
   "version": "3.8.5",
   "mimetype": "text/x-python",
   "codemirror_mode": {
    "name": "ipython",
    "version": 3
   },
   "pygments_lexer": "ipython3",
   "nbconvert_exporter": "python",
   "file_extension": ".py"
  },
  "kernelspec": {
   "name": "python3",
   "display_name": "Python 3.8.5 64-bit ('base': conda)"
  },
  "interpreter": {
   "hash": "64fbe09aa140226ebef7b134872e6e66e3d916dbcb74e6f22199975e4c5ac526"
  }
 },
 "nbformat": 4,
 "nbformat_minor": 2
}